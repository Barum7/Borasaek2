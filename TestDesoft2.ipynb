{
  "nbformat": 4,
  "nbformat_minor": 0,
  "metadata": {
    "colab": {
      "provenance": [],
      "gpuType": "T4"
    },
    "kernelspec": {
      "name": "python3",
      "display_name": "Python 3"
    },
    "language_info": {
      "name": "python"
    },
    "accelerator": "GPU"
  },
  "cells": [
    {
      "cell_type": "code",
      "execution_count": 1,
      "metadata": {
        "id": "7PvXjVeuJCc5"
      },
      "outputs": [],
      "source": [
        "import pandas as pd\n",
        "from keras.models import load_model"
      ]
    },
    {
      "cell_type": "code",
      "source": [
        "# Cargar el modelo entrenado\n",
        "model = load_model('modelo_consumo_energetico.keras')"
      ],
      "metadata": {
        "id": "ArhevGD4JHiU"
      },
      "execution_count": 3,
      "outputs": []
    },
    {
      "cell_type": "code",
      "source": [],
      "metadata": {
        "id": "ld38VeToL6lq"
      },
      "execution_count": null,
      "outputs": []
    },
    {
      "cell_type": "code",
      "source": [
        "\n",
        "\n",
        "\n",
        "\n",
        "# Solicitar al usuario que ingrese el año y el mes\n",
        "año = int(input(\"Ingrese el año: \"))\n",
        "mes = int(input(\"Ingrese el mes (1-12): \"))\n",
        "\n",
        "# Crear un DataFrame con el año y el mes\n",
        "df_input = pd.DataFrame({'year': [año], 'month': [mes]})\n",
        "\n",
        "# Usar el modelo entrenado para predecir el consumo de energía\n",
        "consumo_predicho = model.predict(df_input)[0][0]\n",
        "print(f\"El consumo de energía predicho para el año {año}, mes {mes} es {consumo_predicho:.2f} unidades.\")"
      ],
      "metadata": {
        "colab": {
          "base_uri": "https://localhost:8080/"
        },
        "id": "1gV6nvwNJJpu",
        "outputId": "d23b8500-89d5-4cf0-a114-900f8808a2de"
      },
      "execution_count": 7,
      "outputs": [
        {
          "output_type": "stream",
          "name": "stdout",
          "text": [
            "Ingrese el año: 2024\n",
            "Ingrese el mes (1-12): 1\n",
            "1/1 [==============================] - 0s 18ms/step\n",
            "El consumo de energía predicho para el año 2024, mes 1 es 938.96 unidades.\n"
          ]
        }
      ]
    }
  ]
}